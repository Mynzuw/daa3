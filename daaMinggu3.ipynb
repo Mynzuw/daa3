{
 "cells": [
  {
   "cell_type": "code",
   "execution_count": 1,
   "id": "2ab67b67",
   "metadata": {},
   "outputs": [],
   "source": [
    "aList = [\"Matthew\", 24, \"Mynzuw\", True]"
   ]
  },
  {
   "cell_type": "code",
   "execution_count": 2,
   "id": "9a55dc7a",
   "metadata": {},
   "outputs": [
    {
     "name": "stdout",
     "output_type": "stream",
     "text": [
      "['Matthew', 24, 'Mynzuw', True]\n"
     ]
    }
   ],
   "source": [
    "print(aList)"
   ]
  },
  {
   "cell_type": "code",
   "execution_count": 46,
   "id": "c8da84c8",
   "metadata": {},
   "outputs": [
    {
     "name": "stdout",
     "output_type": "stream",
     "text": [
      "['Miftah Adha', '2021071008', 'Informatika', 'DAA', '14/9/2022', 'Universtitas Pembangunan Jaya']\n"
     ]
    }
   ],
   "source": [
    "Mahasiswa = [\"Miftah Adha\", \"2021071008\", \"Informatika\", \"DAA\", \"14/9/2022\", \"Universtitas Pembangunan Jaya\"]\n",
    "print(Mahasiswa)"
   ]
  },
  {
   "cell_type": "code",
   "execution_count": 39,
   "id": "5af78f68",
   "metadata": {},
   "outputs": [
    {
     "data": {
      "text/plain": [
       "'Blue'"
      ]
     },
     "execution_count": 39,
     "metadata": {},
     "output_type": "execute_result"
    }
   ],
   "source": [
    "bin_colors=[\"Red\", \"Green\", \"Blue\", \"Yellow\"]\n",
    "bin_colors[2]"
   ]
  },
  {
   "cell_type": "code",
   "execution_count": 29,
   "id": "7cf421a3",
   "metadata": {},
   "outputs": [
    {
     "data": {
      "text/plain": [
       "2021071008"
      ]
     },
     "execution_count": 29,
     "metadata": {},
     "output_type": "execute_result"
    }
   ],
   "source": [
    "Mahasiswa[1]"
   ]
  },
  {
   "cell_type": "code",
   "execution_count": 32,
   "id": "e809c5e3",
   "metadata": {},
   "outputs": [
    {
     "data": {
      "text/plain": [
       "'Universtitas Pembangunan Jaya'"
      ]
     },
     "execution_count": 32,
     "metadata": {},
     "output_type": "execute_result"
    }
   ],
   "source": [
    "Mahasiswa[5]"
   ]
  },
  {
   "cell_type": "code",
   "execution_count": 37,
   "id": "0a017c64",
   "metadata": {},
   "outputs": [
    {
     "data": {
      "text/plain": [
       "['Red', 'Green']"
      ]
     },
     "execution_count": 37,
     "metadata": {},
     "output_type": "execute_result"
    }
   ],
   "source": [
    "bin_colors[0:2]"
   ]
  },
  {
   "cell_type": "code",
   "execution_count": 62,
   "id": "b2050dd4",
   "metadata": {},
   "outputs": [
    {
     "data": {
      "text/plain": [
       "['2021071008', 'Informatika']"
      ]
     },
     "execution_count": 62,
     "metadata": {},
     "output_type": "execute_result"
    }
   ],
   "source": [
    "Mahasiswa[1:3]"
   ]
  },
  {
   "cell_type": "code",
   "execution_count": 69,
   "id": "a70b7aad",
   "metadata": {},
   "outputs": [
    {
     "name": "stdout",
     "output_type": "stream",
     "text": [
      "Red Square\n",
      "Green Square\n",
      "Blue Square\n",
      "Yellow Square\n"
     ]
    }
   ],
   "source": [
    "for aColor in bin_colors:\n",
    "    print(aColor + \" Square\")"
   ]
  },
  {
   "cell_type": "code",
   "execution_count": 70,
   "id": "13336509",
   "metadata": {},
   "outputs": [
    {
     "name": "stdout",
     "output_type": "stream",
     "text": [
      "UPJ  Miftah Adha\n",
      "UPJ  2021071008\n",
      "UPJ  Informatika\n",
      "UPJ  DAA\n",
      "UPJ  14/9/2022\n",
      "UPJ  Universtitas Pembangunan Jaya\n"
     ]
    }
   ],
   "source": [
    "for aMhsw in Mahasiswa:\n",
    "    print(\"UPJ \" , aMhsw)"
   ]
  },
  {
   "cell_type": "code",
   "execution_count": 71,
   "id": "f4dad176",
   "metadata": {},
   "outputs": [
    {
     "data": {
      "text/plain": [
       "'Green'"
      ]
     },
     "execution_count": 71,
     "metadata": {},
     "output_type": "execute_result"
    }
   ],
   "source": [
    "bin_colors=('Red','Green','Blue','Yellow')\n",
    "bin_colors[1]"
   ]
  },
  {
   "cell_type": "code",
   "execution_count": 73,
   "id": "99b191b7",
   "metadata": {},
   "outputs": [
    {
     "data": {
      "text/plain": [
       "('Blue', 'Yellow')"
      ]
     },
     "execution_count": 73,
     "metadata": {},
     "output_type": "execute_result"
    }
   ],
   "source": [
    "bin_colors[2:]"
   ]
  },
  {
   "cell_type": "code",
   "execution_count": 82,
   "id": "368bc302",
   "metadata": {},
   "outputs": [
    {
     "data": {
      "text/plain": [
       "('Universitas', 'Pembangunan', 'Jaya')"
      ]
     },
     "execution_count": 82,
     "metadata": {},
     "output_type": "execute_result"
    }
   ],
   "source": [
    "UPJ = ('Universitas','Pembangunan','Jaya')\n",
    "UPJ[:3]"
   ]
  },
  {
   "cell_type": "code",
   "execution_count": 87,
   "id": "4d78682d",
   "metadata": {},
   "outputs": [
    {
     "name": "stdout",
     "output_type": "stream",
     "text": [
      "(100, (200, 400, 600), 300, (400, 800))\n"
     ]
    }
   ],
   "source": [
    "nested_tuple = (100 , (200,400,600),300, (400,800))\n",
    "print(nested_tuple)"
   ]
  },
  {
   "cell_type": "code",
   "execution_count": 94,
   "id": "4c838cc7",
   "metadata": {},
   "outputs": [
    {
     "name": "stdout",
     "output_type": "stream",
     "text": [
      "{'manual_color': 'Yellow', 'approved_color': 'Green', 'refused_color': 'Red'}\n"
     ]
    }
   ],
   "source": [
    "bin_colors ={\n",
    "\"manual_color\": \"Yellow\",\n",
    "\"approved_color\": \"Green\",\n",
    "\"refused_color\": \"Red\"\n",
    "}\n",
    "print(bin_colors)"
   ]
  },
  {
   "cell_type": "code",
   "execution_count": 95,
   "id": "261b36e6",
   "metadata": {},
   "outputs": [
    {
     "data": {
      "text/plain": [
       "'Green'"
      ]
     },
     "execution_count": 95,
     "metadata": {},
     "output_type": "execute_result"
    }
   ],
   "source": [
    "bin_colors.get('approved_color')"
   ]
  },
  {
   "cell_type": "code",
   "execution_count": 91,
   "id": "7b3dea98",
   "metadata": {},
   "outputs": [
    {
     "data": {
      "text/plain": [
       "'Green'"
      ]
     },
     "execution_count": 91,
     "metadata": {},
     "output_type": "execute_result"
    }
   ],
   "source": [
    "bin_colors['approved_color']"
   ]
  },
  {
   "cell_type": "code",
   "execution_count": 99,
   "id": "809250c3",
   "metadata": {},
   "outputs": [
    {
     "name": "stdout",
     "output_type": "stream",
     "text": [
      "{'manual_color': 'Cyan', 'approved_color': 'Magenta', 'refused_color': 'Red'}\n"
     ]
    }
   ],
   "source": [
    "bin_colors['manual_color']=\"Cyan\"\n",
    "bin_colors['approved_color']=\"Magenta\"\n",
    "print(bin_colors)"
   ]
  },
  {
   "cell_type": "code",
   "execution_count": 100,
   "id": "ce0558e6",
   "metadata": {},
   "outputs": [
    {
     "name": "stdout",
     "output_type": "stream",
     "text": [
      "{'Nama': 'Miftah Adha', 'NIM': '2021071008', 'Prodi': 'Informatika', 'Universitas': 'UPJ'}\n"
     ]
    }
   ],
   "source": [
    "data_diri ={\n",
    "\"Nama\": \"Miftah Adha\",\n",
    "\"NIM\": \"2021071008\",\n",
    "\"Prodi\": \"Informatika\",\n",
    "\"Universitas\" : \"UPJ\"\n",
    "}\n",
    "print(data_diri)"
   ]
  },
  {
   "cell_type": "code",
   "execution_count": 113,
   "id": "c2525701",
   "metadata": {},
   "outputs": [
    {
     "name": "stdout",
     "output_type": "stream",
     "text": [
      "{'leaves', 'grass'}\n"
     ]
    }
   ],
   "source": [
    "green = {'grass','leaves'}\n",
    "print(green)"
   ]
  },
  {
   "cell_type": "code",
   "execution_count": 114,
   "id": "0418c234",
   "metadata": {},
   "outputs": [
    {
     "name": "stdout",
     "output_type": "stream",
     "text": [
      "{'leaves', 'grass'}\n"
     ]
    }
   ],
   "source": [
    "green = {'grass','grass','leaves','leaves'}\n",
    "print(green)"
   ]
  },
  {
   "cell_type": "code",
   "execution_count": 128,
   "id": "adad4790",
   "metadata": {},
   "outputs": [
    {
     "data": {
      "text/plain": [
       "{'blood', 'dandelions', 'fire hydrant', 'leaves', 'rose'}"
      ]
     },
     "execution_count": 128,
     "metadata": {},
     "output_type": "execute_result"
    }
   ],
   "source": [
    "red = {'rose', 'blood','leaves', 'fire hydrant'}\n",
    "yellow = {'dandelions', 'leaves', 'fire hydrant'}\n",
    "\n",
    "yellow|red"
   ]
  },
  {
   "cell_type": "code",
   "execution_count": 129,
   "id": "dc4a9daf",
   "metadata": {},
   "outputs": [
    {
     "data": {
      "text/plain": [
       "{'fire hydrant', 'leaves'}"
      ]
     },
     "execution_count": 129,
     "metadata": {},
     "output_type": "execute_result"
    }
   ],
   "source": [
    "yellow&red"
   ]
  },
  {
   "cell_type": "code",
   "execution_count": 130,
   "id": "b0e06809",
   "metadata": {},
   "outputs": [],
   "source": [
    "import pandas as pd"
   ]
  },
  {
   "cell_type": "code",
   "execution_count": 141,
   "id": "739885cf",
   "metadata": {},
   "outputs": [],
   "source": [
    "df = pd.DataFrame([\n",
    "['1', 'Fares', 32, True],\n",
    "['2', 'Elena', 23, False],\n",
    "['3', 'Steven', 40, True]])"
   ]
  },
  {
   "cell_type": "code",
   "execution_count": 142,
   "id": "82f094ff",
   "metadata": {},
   "outputs": [],
   "source": [
    "df.columns = ['id', 'name', 'age', 'decision']"
   ]
  },
  {
   "cell_type": "code",
   "execution_count": 143,
   "id": "fa21d3d9",
   "metadata": {},
   "outputs": [
    {
     "data": {
      "text/html": [
       "<div>\n",
       "<style scoped>\n",
       "    .dataframe tbody tr th:only-of-type {\n",
       "        vertical-align: middle;\n",
       "    }\n",
       "\n",
       "    .dataframe tbody tr th {\n",
       "        vertical-align: top;\n",
       "    }\n",
       "\n",
       "    .dataframe thead th {\n",
       "        text-align: right;\n",
       "    }\n",
       "</style>\n",
       "<table border=\"1\" class=\"dataframe\">\n",
       "  <thead>\n",
       "    <tr style=\"text-align: right;\">\n",
       "      <th></th>\n",
       "      <th>id</th>\n",
       "      <th>name</th>\n",
       "      <th>age</th>\n",
       "      <th>decision</th>\n",
       "    </tr>\n",
       "  </thead>\n",
       "  <tbody>\n",
       "    <tr>\n",
       "      <th>0</th>\n",
       "      <td>1</td>\n",
       "      <td>Fares</td>\n",
       "      <td>32</td>\n",
       "      <td>True</td>\n",
       "    </tr>\n",
       "    <tr>\n",
       "      <th>1</th>\n",
       "      <td>2</td>\n",
       "      <td>Elena</td>\n",
       "      <td>23</td>\n",
       "      <td>False</td>\n",
       "    </tr>\n",
       "    <tr>\n",
       "      <th>2</th>\n",
       "      <td>3</td>\n",
       "      <td>Steven</td>\n",
       "      <td>40</td>\n",
       "      <td>True</td>\n",
       "    </tr>\n",
       "  </tbody>\n",
       "</table>\n",
       "</div>"
      ],
      "text/plain": [
       "  id    name  age  decision\n",
       "0  1   Fares   32      True\n",
       "1  2   Elena   23     False\n",
       "2  3  Steven   40      True"
      ]
     },
     "execution_count": 143,
     "metadata": {},
     "output_type": "execute_result"
    }
   ],
   "source": [
    "df"
   ]
  },
  {
   "cell_type": "code",
   "execution_count": 144,
   "id": "333084fd",
   "metadata": {},
   "outputs": [
    {
     "data": {
      "text/html": [
       "<div>\n",
       "<style scoped>\n",
       "    .dataframe tbody tr th:only-of-type {\n",
       "        vertical-align: middle;\n",
       "    }\n",
       "\n",
       "    .dataframe tbody tr th {\n",
       "        vertical-align: top;\n",
       "    }\n",
       "\n",
       "    .dataframe thead th {\n",
       "        text-align: right;\n",
       "    }\n",
       "</style>\n",
       "<table border=\"1\" class=\"dataframe\">\n",
       "  <thead>\n",
       "    <tr style=\"text-align: right;\">\n",
       "      <th></th>\n",
       "      <th>name</th>\n",
       "      <th>age</th>\n",
       "    </tr>\n",
       "  </thead>\n",
       "  <tbody>\n",
       "    <tr>\n",
       "      <th>0</th>\n",
       "      <td>Fares</td>\n",
       "      <td>32</td>\n",
       "    </tr>\n",
       "    <tr>\n",
       "      <th>1</th>\n",
       "      <td>Elena</td>\n",
       "      <td>23</td>\n",
       "    </tr>\n",
       "    <tr>\n",
       "      <th>2</th>\n",
       "      <td>Steven</td>\n",
       "      <td>40</td>\n",
       "    </tr>\n",
       "  </tbody>\n",
       "</table>\n",
       "</div>"
      ],
      "text/plain": [
       "     name  age\n",
       "0   Fares   32\n",
       "1   Elena   23\n",
       "2  Steven   40"
      ]
     },
     "execution_count": 144,
     "metadata": {},
     "output_type": "execute_result"
    }
   ],
   "source": [
    "df[['name','age']]"
   ]
  },
  {
   "cell_type": "code",
   "execution_count": 145,
   "id": "b344419f",
   "metadata": {},
   "outputs": [
    {
     "data": {
      "text/plain": [
       "0     True\n",
       "1    False\n",
       "2     True\n",
       "Name: decision, dtype: bool"
      ]
     },
     "execution_count": 145,
     "metadata": {},
     "output_type": "execute_result"
    }
   ],
   "source": [
    "df.iloc[:,3]"
   ]
  },
  {
   "cell_type": "code",
   "execution_count": 147,
   "id": "1953e508",
   "metadata": {},
   "outputs": [],
   "source": [
    "import numpy as np"
   ]
  },
  {
   "cell_type": "code",
   "execution_count": 148,
   "id": "4599a0d9",
   "metadata": {},
   "outputs": [],
   "source": [
    "myMatrix = np.array([[11, 12, 13], [21, 22, 23], [31, 32, 33]])"
   ]
  },
  {
   "cell_type": "code",
   "execution_count": 149,
   "id": "be49aa6c",
   "metadata": {},
   "outputs": [
    {
     "name": "stdout",
     "output_type": "stream",
     "text": [
      "[[11 12 13]\n",
      " [21 22 23]\n",
      " [31 32 33]]\n"
     ]
    }
   ],
   "source": [
    "print(myMatrix)"
   ]
  },
  {
   "cell_type": "code",
   "execution_count": 150,
   "id": "b0654539",
   "metadata": {},
   "outputs": [
    {
     "name": "stdout",
     "output_type": "stream",
     "text": [
      "<class 'numpy.ndarray'>\n"
     ]
    }
   ],
   "source": [
    "print(type(myMatrix))\n"
   ]
  },
  {
   "cell_type": "code",
   "execution_count": 151,
   "id": "69b15ce7",
   "metadata": {},
   "outputs": [
    {
     "name": "stdout",
     "output_type": "stream",
     "text": [
      "[22, 33, 44, 55]\n"
     ]
    }
   ],
   "source": [
    "myVector = [22,33,44,55]\n",
    "print(myVector)"
   ]
  },
  {
   "cell_type": "code",
   "execution_count": 152,
   "id": "b74c424f",
   "metadata": {},
   "outputs": [
    {
     "name": "stdout",
     "output_type": "stream",
     "text": [
      "<class 'list'>\n"
     ]
    }
   ],
   "source": [
    "print(type(myVector))"
   ]
  },
  {
   "cell_type": "code",
   "execution_count": 153,
   "id": "22e8c72c",
   "metadata": {},
   "outputs": [
    {
     "name": "stdout",
     "output_type": "stream",
     "text": [
      "[22 33 44 55]\n"
     ]
    }
   ],
   "source": [
    "myVector = np.array([22,33,44,55])\n",
    "print(myVector)"
   ]
  },
  {
   "cell_type": "code",
   "execution_count": 154,
   "id": "9a1a3d0f",
   "metadata": {},
   "outputs": [
    {
     "name": "stdout",
     "output_type": "stream",
     "text": [
      "<class 'numpy.ndarray'>\n"
     ]
    }
   ],
   "source": [
    "print(type(myVector))"
   ]
  },
  {
   "cell_type": "code",
   "execution_count": 162,
   "id": "33aed2a3",
   "metadata": {},
   "outputs": [],
   "source": [
    "class Stack:\n",
    "    def __init__(self):\n",
    "        self.items = []\n",
    "    def isEmpty(self):\n",
    "        return self.items == []\n",
    "    def push(self, item):\n",
    "        self.items.append(item)\n",
    "    def pop(self):\n",
    "        return self.items.pop()\n",
    "    def peek(self):\n",
    "        return self.items[len(self.items)-1]\n",
    "    def size(self):\n",
    "        return len(self.items)"
   ]
  },
  {
   "cell_type": "code",
   "execution_count": 163,
   "id": "8b78ddc8",
   "metadata": {},
   "outputs": [],
   "source": [
    "stack=Stack()\n",
    "stack.push('Red')\n",
    "stack.push('Green')\n",
    "stack.push(\"Blue\")\n",
    "stack.push(\"Yellow\")"
   ]
  },
  {
   "cell_type": "code",
   "execution_count": 161,
   "id": "a695cefb",
   "metadata": {},
   "outputs": [
    {
     "data": {
      "text/plain": [
       "'Yellow'"
      ]
     },
     "execution_count": 161,
     "metadata": {},
     "output_type": "execute_result"
    }
   ],
   "source": [
    "stack.pop()"
   ]
  },
  {
   "cell_type": "code",
   "execution_count": 164,
   "id": "7af7a39b",
   "metadata": {},
   "outputs": [
    {
     "data": {
      "text/plain": [
       "False"
      ]
     },
     "execution_count": 164,
     "metadata": {},
     "output_type": "execute_result"
    }
   ],
   "source": [
    "stack.isEmpty()"
   ]
  },
  {
   "cell_type": "code",
   "execution_count": null,
   "id": "90c10baa",
   "metadata": {},
   "outputs": [],
   "source": []
  }
 ],
 "metadata": {
  "kernelspec": {
   "display_name": "Python 3 (ipykernel)",
   "language": "python",
   "name": "python3"
  },
  "language_info": {
   "codemirror_mode": {
    "name": "ipython",
    "version": 3
   },
   "file_extension": ".py",
   "mimetype": "text/x-python",
   "name": "python",
   "nbconvert_exporter": "python",
   "pygments_lexer": "ipython3",
   "version": "3.9.12"
  }
 },
 "nbformat": 4,
 "nbformat_minor": 5
}
